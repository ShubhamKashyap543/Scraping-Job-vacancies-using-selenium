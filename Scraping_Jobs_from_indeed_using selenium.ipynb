{
 "cells": [
  {
   "cell_type": "markdown",
   "id": "c212b4a3",
   "metadata": {},
   "source": [
    "# Importing packages"
   ]
  },
  {
   "cell_type": "code",
   "execution_count": 245,
   "id": "41cb5741",
   "metadata": {},
   "outputs": [],
   "source": [
    "import pandas as pd\n",
    "import numpy as np\n",
    "from selenium import webdriver\n",
    "from selenium.webdriver.common.keys import Keys\n",
    "from selenium.webdriver.chrome.options import Options\n",
    "import time"
   ]
  },
  {
   "cell_type": "markdown",
   "id": "33fe5c1f",
   "metadata": {},
   "source": [
    "# Link to download chrome driver"
   ]
  },
  {
   "cell_type": "markdown",
   "id": "53fc1509",
   "metadata": {},
   "source": [
    "https://sites.google.com/chromium.org/driver/?pli=1"
   ]
  },
  {
   "cell_type": "markdown",
   "id": "2c33f175",
   "metadata": {},
   "source": [
    "# configuring driver"
   ]
  },
  {
   "cell_type": "markdown",
   "id": "5d73e669",
   "metadata": {},
   "source": [
    "### For running chrome in background run below cell"
   ]
  },
  {
   "cell_type": "markdown",
   "id": "38ff0784",
   "metadata": {},
   "source": [
    "options = webdriver.ChromeOptions() \n",
    "options.headless = True \n",
    "driver = webdriver.Chrome(r\"C:\\Users\\shubh\\Desktop\\Freelancing\\Blogging\\Webscraping_using_selenium\\chromedriver.exe\", options=options)"
   ]
  },
  {
   "cell_type": "markdown",
   "id": "c182a51b",
   "metadata": {},
   "source": [
    "### This will run chrome in foreground"
   ]
  },
  {
   "cell_type": "code",
   "execution_count": 246,
   "id": "e0ef1275",
   "metadata": {},
   "outputs": [
    {
     "name": "stderr",
     "output_type": "stream",
     "text": [
      "C:\\Users\\shubh\\AppData\\Local\\Temp\\ipykernel_4964\\3711381930.py:1: DeprecationWarning: executable_path has been deprecated, please pass in a Service object\n",
      "  driver = webdriver.Chrome(r\"C:\\Users\\shubh\\Desktop\\Freelancing\\Blogging\\Webscraping_using_selenium\\chromedriver.exe\")\n"
     ]
    }
   ],
   "source": [
    "driver = webdriver.Chrome(r\"C:\\Users\\shubh\\Desktop\\Freelancing\\Blogging\\Webscraping_using_selenium\\chromedriver.exe\")"
   ]
  },
  {
   "cell_type": "markdown",
   "id": "1496b3e5",
   "metadata": {},
   "source": [
    "# opening link in chrome"
   ]
  },
  {
   "cell_type": "code",
   "execution_count": 247,
   "id": "d5e2621d",
   "metadata": {},
   "outputs": [],
   "source": [
    "driver.get(\"https://indeed.com\")"
   ]
  },
  {
   "cell_type": "code",
   "execution_count": 248,
   "id": "9a57033c",
   "metadata": {},
   "outputs": [],
   "source": [
    "time.sleep(10)"
   ]
  },
  {
   "cell_type": "markdown",
   "id": "9a7ad985",
   "metadata": {},
   "source": [
    "# Getting search bar element"
   ]
  },
  {
   "cell_type": "code",
   "execution_count": 249,
   "id": "59408474",
   "metadata": {},
   "outputs": [],
   "source": [
    "search_box = driver.find_element(\"name\", \"q\")"
   ]
  },
  {
   "cell_type": "code",
   "execution_count": 250,
   "id": "4aa55e78",
   "metadata": {},
   "outputs": [],
   "source": [
    "search_box1 = driver.find_element(\"name\", \"l\")"
   ]
  },
  {
   "cell_type": "markdown",
   "id": "752afd6e",
   "metadata": {},
   "source": [
    "# Sending Parametres to search bars"
   ]
  },
  {
   "cell_type": "code",
   "execution_count": 251,
   "id": "f74e28f4",
   "metadata": {},
   "outputs": [],
   "source": [
    "search_box.send_keys(\"Data Scientist\")"
   ]
  },
  {
   "cell_type": "code",
   "execution_count": 252,
   "id": "e5533c28",
   "metadata": {},
   "outputs": [],
   "source": [
    "search_box1.send_keys(\"Banglore\")"
   ]
  },
  {
   "cell_type": "markdown",
   "id": "312102c4",
   "metadata": {},
   "source": [
    "# Pressing Enter"
   ]
  },
  {
   "cell_type": "code",
   "execution_count": 253,
   "id": "5504b89b",
   "metadata": {},
   "outputs": [],
   "source": [
    "search_box1.send_keys(Keys.RETURN)"
   ]
  },
  {
   "cell_type": "markdown",
   "id": "f664a822",
   "metadata": {},
   "source": [
    "# Getting titles of Job description"
   ]
  },
  {
   "cell_type": "code",
   "execution_count": 254,
   "id": "7708f8c3",
   "metadata": {},
   "outputs": [],
   "source": [
    "job_title = driver.find_element(\"xpath\", \"//a[@class = 'jcs-JobTitle css-jspxzf eu4oa1w0']\")"
   ]
  },
  {
   "cell_type": "code",
   "execution_count": 255,
   "id": "88c25cb6",
   "metadata": {},
   "outputs": [
    {
     "name": "stdout",
     "output_type": "stream",
     "text": [
      "Assistant Data Scientist\n"
     ]
    }
   ],
   "source": [
    "print(job_title.text)"
   ]
  },
  {
   "cell_type": "markdown",
   "id": "2249f001",
   "metadata": {},
   "source": [
    "# Getting comany name"
   ]
  },
  {
   "cell_type": "code",
   "execution_count": 256,
   "id": "786c0bd2",
   "metadata": {},
   "outputs": [],
   "source": [
    "company_name = driver.find_element(\"css selector\", \"span.companyName\")"
   ]
  },
  {
   "cell_type": "code",
   "execution_count": 257,
   "id": "37e04177",
   "metadata": {},
   "outputs": [
    {
     "name": "stdout",
     "output_type": "stream",
     "text": [
      "Ascendeum\n"
     ]
    }
   ],
   "source": [
    "print(company_name.text)"
   ]
  },
  {
   "cell_type": "markdown",
   "id": "e0a1474e",
   "metadata": {},
   "source": [
    "# Getting job location"
   ]
  },
  {
   "cell_type": "code",
   "execution_count": 258,
   "id": "78bde954",
   "metadata": {},
   "outputs": [],
   "source": [
    "location = driver.find_element(\"css selector\", \"div.companyLocation\")"
   ]
  },
  {
   "cell_type": "code",
   "execution_count": 259,
   "id": "e936753b",
   "metadata": {},
   "outputs": [
    {
     "name": "stdout",
     "output_type": "stream",
     "text": [
      "Remote in Bengaluru, Karnataka\n"
     ]
    }
   ],
   "source": [
    "print(location.text)"
   ]
  },
  {
   "cell_type": "markdown",
   "id": "8515e584",
   "metadata": {},
   "source": [
    "# Getting job posted dates"
   ]
  },
  {
   "cell_type": "code",
   "execution_count": 260,
   "id": "b41b54f4",
   "metadata": {},
   "outputs": [],
   "source": [
    "date_posted = driver.find_element(\"css selector\", \"span.date\")"
   ]
  },
  {
   "cell_type": "code",
   "execution_count": 261,
   "id": "eefa5226",
   "metadata": {},
   "outputs": [
    {
     "name": "stdout",
     "output_type": "stream",
     "text": [
      "Employer\n",
      "Active 4 days ago\n"
     ]
    }
   ],
   "source": [
    "print(date_posted.text)"
   ]
  },
  {
   "cell_type": "markdown",
   "id": "cba9a40e",
   "metadata": {},
   "source": [
    "# Putting everything together"
   ]
  },
  {
   "cell_type": "code",
   "execution_count": 262,
   "id": "7c3bdd8e",
   "metadata": {},
   "outputs": [],
   "source": [
    "page_count = 1\n",
    "\n",
    "# max page to extract\n",
    "max_page = 5\n",
    "\n",
    "position_name = []\n",
    "job_links = []\n",
    "comp_names = []\n",
    "job_locations = []\n",
    "dates = []\n",
    "next_page = True\n",
    "\n",
    "while next_page:\n",
    "    \n",
    "    # Extracting all job titles and links\n",
    "    job_titles = driver.find_elements(\"xpath\", \"//a[@class = 'jcs-JobTitle css-jspxzf eu4oa1w0']\")\n",
    "    for title in job_titles:\n",
    "        #print(title.text)\n",
    "        position_name.append(title.text)\n",
    "        #print(title.get_attribute(\"href\"))\n",
    "        job_links.append(title.get_attribute(\"href\"))\n",
    "        \n",
    "    # Extracting all comany names  \n",
    "    company_names = driver.find_elements(\"css selector\", \"span.companyName\")\n",
    "    for name in company_names:\n",
    "        #print(name.text)\n",
    "        comp_names.append(name.text)\n",
    "        \n",
    "    # Extracting all job locations   \n",
    "    locations = driver.find_elements(\"css selector\", \"div.companyLocation\")\n",
    "    for loc in locations:\n",
    "        #print(loc.text)\n",
    "        job_locations.append(loc.text)\n",
    "        \n",
    "    # Extracting all job posted dates  \n",
    "    date_posted = driver.find_elements(\"css selector\", \"span.date\")\n",
    "    for date in date_posted:\n",
    "        #print(date.text.split(\"\\n\")[1])\n",
    "        dates.append(date.text.split(\"\\n\")[1])\n",
    "        \n",
    "    next_page = driver.find_element('xpath', '//a[@aria-label = \"Next Page\"]')\n",
    "    if(page_count < max_page):\n",
    "        next_page.click()  \n",
    "        page_count+=1\n",
    "    else:\n",
    "        next_page = False"
   ]
  },
  {
   "cell_type": "markdown",
   "id": "ad69224e",
   "metadata": {},
   "source": [
    "# Putting everything into dataframe"
   ]
  },
  {
   "cell_type": "code",
   "execution_count": 263,
   "id": "7d98a484",
   "metadata": {},
   "outputs": [],
   "source": [
    "dictionary = {\"Job titile\": position_name,\n",
    "              \"Job links\": job_links,\n",
    "              \"Company Name\": comp_names,\n",
    "              \"Job Location\": job_locations,\n",
    "              \"Date Posted\": dates}"
   ]
  },
  {
   "cell_type": "code",
   "execution_count": 264,
   "id": "a7596529",
   "metadata": {},
   "outputs": [],
   "source": [
    "df = pd.DataFrame(dictionary)"
   ]
  },
  {
   "cell_type": "code",
   "execution_count": 265,
   "id": "f0a2e692",
   "metadata": {},
   "outputs": [
    {
     "data": {
      "text/html": [
       "<div>\n",
       "<style scoped>\n",
       "    .dataframe tbody tr th:only-of-type {\n",
       "        vertical-align: middle;\n",
       "    }\n",
       "\n",
       "    .dataframe tbody tr th {\n",
       "        vertical-align: top;\n",
       "    }\n",
       "\n",
       "    .dataframe thead th {\n",
       "        text-align: right;\n",
       "    }\n",
       "</style>\n",
       "<table border=\"1\" class=\"dataframe\">\n",
       "  <thead>\n",
       "    <tr style=\"text-align: right;\">\n",
       "      <th></th>\n",
       "      <th>Job titile</th>\n",
       "      <th>Job links</th>\n",
       "      <th>Company Name</th>\n",
       "      <th>Job Location</th>\n",
       "      <th>Date Posted</th>\n",
       "    </tr>\n",
       "  </thead>\n",
       "  <tbody>\n",
       "    <tr>\n",
       "      <th>0</th>\n",
       "      <td>Assistant Data Scientist</td>\n",
       "      <td>https://in.indeed.com/company/Ascendeum/jobs/A...</td>\n",
       "      <td>Ascendeum</td>\n",
       "      <td>Remote in Bengaluru, Karnataka</td>\n",
       "      <td>Active 4 days ago</td>\n",
       "    </tr>\n",
       "    <tr>\n",
       "      <th>1</th>\n",
       "      <td>Data Scientist (India Remote)</td>\n",
       "      <td>https://in.indeed.com/rc/clk?jk=8099c00f755726...</td>\n",
       "      <td>Token Metrics</td>\n",
       "      <td>Remote in Bengaluru, Karnataka</td>\n",
       "      <td>Posted 2 days ago</td>\n",
       "    </tr>\n",
       "    <tr>\n",
       "      <th>2</th>\n",
       "      <td>Data Scientist</td>\n",
       "      <td>https://in.indeed.com/company/Nexus-pro-servic...</td>\n",
       "      <td>Nexus pro services</td>\n",
       "      <td>Remote in Bengaluru, Karnataka</td>\n",
       "      <td>Posted 2 days ago</td>\n",
       "    </tr>\n",
       "    <tr>\n",
       "      <th>3</th>\n",
       "      <td>Data Scientist</td>\n",
       "      <td>https://in.indeed.com/company/weholds-and-care...</td>\n",
       "      <td>weholds and care holding pvt ltd</td>\n",
       "      <td>Bengaluru, Karnataka</td>\n",
       "      <td>Posted 7 days ago</td>\n",
       "    </tr>\n",
       "    <tr>\n",
       "      <th>4</th>\n",
       "      <td>Associate Data Scientist</td>\n",
       "      <td>https://in.indeed.com/rc/clk?jk=d2bb89d763adea...</td>\n",
       "      <td>Kmart</td>\n",
       "      <td>Bengaluru, Karnataka</td>\n",
       "      <td>Posted 26 days ago</td>\n",
       "    </tr>\n",
       "  </tbody>\n",
       "</table>\n",
       "</div>"
      ],
      "text/plain": [
       "                      Job titile  \\\n",
       "0       Assistant Data Scientist   \n",
       "1  Data Scientist (India Remote)   \n",
       "2                 Data Scientist   \n",
       "3                 Data Scientist   \n",
       "4       Associate Data Scientist   \n",
       "\n",
       "                                           Job links  \\\n",
       "0  https://in.indeed.com/company/Ascendeum/jobs/A...   \n",
       "1  https://in.indeed.com/rc/clk?jk=8099c00f755726...   \n",
       "2  https://in.indeed.com/company/Nexus-pro-servic...   \n",
       "3  https://in.indeed.com/company/weholds-and-care...   \n",
       "4  https://in.indeed.com/rc/clk?jk=d2bb89d763adea...   \n",
       "\n",
       "                       Company Name                    Job Location  \\\n",
       "0                         Ascendeum  Remote in Bengaluru, Karnataka   \n",
       "1                     Token Metrics  Remote in Bengaluru, Karnataka   \n",
       "2                Nexus pro services  Remote in Bengaluru, Karnataka   \n",
       "3  weholds and care holding pvt ltd            Bengaluru, Karnataka   \n",
       "4                             Kmart            Bengaluru, Karnataka   \n",
       "\n",
       "          Date Posted  \n",
       "0   Active 4 days ago  \n",
       "1   Posted 2 days ago  \n",
       "2   Posted 2 days ago  \n",
       "3   Posted 7 days ago  \n",
       "4  Posted 26 days ago  "
      ]
     },
     "execution_count": 265,
     "metadata": {},
     "output_type": "execute_result"
    }
   ],
   "source": [
    "df.head()"
   ]
  },
  {
   "cell_type": "code",
   "execution_count": 268,
   "id": "b71fcd2d",
   "metadata": {},
   "outputs": [
    {
     "data": {
      "text/plain": [
       "(75, 5)"
      ]
     },
     "execution_count": 268,
     "metadata": {},
     "output_type": "execute_result"
    }
   ],
   "source": [
    "df.shape"
   ]
  },
  {
   "cell_type": "code",
   "execution_count": 266,
   "id": "3422200e",
   "metadata": {},
   "outputs": [],
   "source": [
    "df.to_excel(\"Job List.xlsx\", index=False)"
   ]
  },
  {
   "cell_type": "markdown",
   "id": "51358b1e",
   "metadata": {},
   "source": [
    "# Closing Driver"
   ]
  },
  {
   "cell_type": "code",
   "execution_count": 267,
   "id": "1f3abdb7",
   "metadata": {},
   "outputs": [],
   "source": [
    "driver.quit()"
   ]
  }
 ],
 "metadata": {
  "kernelspec": {
   "display_name": "Python 3 (ipykernel)",
   "language": "python",
   "name": "python3"
  },
  "language_info": {
   "codemirror_mode": {
    "name": "ipython",
    "version": 3
   },
   "file_extension": ".py",
   "mimetype": "text/x-python",
   "name": "python",
   "nbconvert_exporter": "python",
   "pygments_lexer": "ipython3",
   "version": "3.9.13"
  }
 },
 "nbformat": 4,
 "nbformat_minor": 5
}
